{
 "cells": [
  {
   "cell_type": "code",
   "execution_count": 5,
   "id": "08bda028",
   "metadata": {},
   "outputs": [
    {
     "name": "stdout",
     "output_type": "stream",
     "text": [
      "Welcome to my Notebook, Aly!\n"
     ]
    }
   ],
   "source": [
    "#Creating user-defined name function.\n",
    "name=input(\"Enter your name:\")\n",
    "\n",
    "#Printing welcome message to user.\n",
    "print(f\"Welcome to my Notebook, {name}!\")"
   ]
  },
  {
   "cell_type": "code",
   "execution_count": 6,
   "id": "a16bdd0a",
   "metadata": {},
   "outputs": [
    {
     "name": "stdout",
     "output_type": "stream",
     "text": [
      "The squareroot of 4.0 is 2.0\n"
     ]
    }
   ],
   "source": [
    "#Creating user-defined number entered and calculating squareroot.\n",
    "number1=float(input(\"Enter a positive number:\"))\n",
    "squareroot=number1 ** 0.5\n",
    "\n",
    "#Print squareroot of user's number.\n",
    "print(f\"The squareroot of {number1} is {squareroot}\")"
   ]
  },
  {
   "cell_type": "code",
   "execution_count": 8,
   "id": "4d32d868",
   "metadata": {},
   "outputs": [
    {
     "name": "stdout",
     "output_type": "stream",
     "text": [
      "The squareroot of 6.0 is 2.449489742783178\n"
     ]
    }
   ],
   "source": [
    "#Ask user to continue with function and respond accordingly\n",
    "response=input(f\"Would you like to input another number(yes or no)\")\n",
    "\n",
    "if response == 'yes':\n",
    "    number2=float(input(\"Enter a positive number:\"))\n",
    "    squareroot2=number2 ** 0.5\n",
    "    print(f\"The squareroot of {number2} is {squareroot2}\")\n",
    "else:\n",
    "    print(f\"Goodbye {name}.\")"
   ]
  },
  {
   "cell_type": "code",
   "execution_count": null,
   "id": "e910d15b",
   "metadata": {},
   "outputs": [],
   "source": []
  }
 ],
 "metadata": {
  "kernelspec": {
   "display_name": "base",
   "language": "python",
   "name": "python3"
  },
  "language_info": {
   "codemirror_mode": {
    "name": "ipython",
    "version": 3
   },
   "file_extension": ".py",
   "mimetype": "text/x-python",
   "name": "python",
   "nbconvert_exporter": "python",
   "pygments_lexer": "ipython3",
   "version": "3.11.6"
  }
 },
 "nbformat": 4,
 "nbformat_minor": 5
}
