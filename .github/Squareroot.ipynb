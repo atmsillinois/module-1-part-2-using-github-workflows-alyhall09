{
 "cells": [
  {
   "cell_type": "code",
   "execution_count": 2,
   "id": "08bda028",
   "metadata": {},
   "outputs": [
    {
     "name": "stdout",
     "output_type": "stream",
     "text": [
      "Welcome to my Notebook, Aly!\n"
     ]
    }
   ],
   "source": [
    "#Creating user-defined name function.\n",
    "name=input(\"Enter your name:\")\n",
    "\n",
    "#Printing welcome message to user.\n",
    "print(f\"Welcome to my Notebook, {name}!\")"
   ]
  },
  {
   "cell_type": "code",
   "execution_count": 5,
   "id": "a16bdd0a",
   "metadata": {},
   "outputs": [
    {
     "name": "stdout",
     "output_type": "stream",
     "text": [
      "The squareroot of 7.0 is 2.6457513110645907\n"
     ]
    }
   ],
   "source": [
    "#Creating user-defined number entered and calculating squareroot.\n",
    "number1=float(input(\"Enter a positive number:\"))\n",
    "squareroot=number1 ** 0.5\n",
    "\n",
    "#Print squareroot of user's number.\n",
    "print(f\"The squareroot of {number1} is {squareroot}\")"
   ]
  },
  {
   "cell_type": "code",
   "execution_count": 1,
   "id": "4d32d868",
   "metadata": {},
   "outputs": [],
   "source": [
    "#TEST"
   ]
  },
  {
   "cell_type": "code",
   "execution_count": null,
   "id": "e910d15b",
   "metadata": {},
   "outputs": [],
   "source": []
  }
 ],
 "metadata": {
  "kernelspec": {
   "display_name": "base",
   "language": "python",
   "name": "python3"
  },
  "language_info": {
   "codemirror_mode": {
    "name": "ipython",
    "version": 3
   },
   "file_extension": ".py",
   "mimetype": "text/x-python",
   "name": "python",
   "nbconvert_exporter": "python",
   "pygments_lexer": "ipython3",
   "version": "3.11.6"
  }
 },
 "nbformat": 4,
 "nbformat_minor": 5
}
