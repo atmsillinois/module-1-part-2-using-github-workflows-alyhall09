{
 "cells": [
  {
   "cell_type": "code",
   "execution_count": null,
   "id": "08bda028",
   "metadata": {},
   "outputs": [
    {
     "name": "stdout",
     "output_type": "stream",
     "text": [
      "Welcome to my Notebook, Aly!\n"
     ]
    }
   ],
   "source": [
    "#Creating user defined name function.\n",
    "name=input(\"Enter your name\")\n",
    "\n",
    "#Printing welcome to user.\n",
    "print(f\"Welcome to my Notebook, {name}!\")"
   ]
  },
  {
   "cell_type": "code",
   "execution_count": 1,
   "id": "a16bdd0a",
   "metadata": {},
   "outputs": [
    {
     "name": "stdout",
     "output_type": "stream",
     "text": [
      "the squareroot of 16.0 is 4.0\n"
     ]
    }
   ],
   "source": [
    "#Creating user defined number entered and calculating squareroot.\n",
    "number1=float(input(\"Enter a number\"))\n",
    "squareroot=float(number1)**.5\n",
    "\n",
    "#Print squareroot of user's number.\n",
    "print(f\"the squareroot of\", (number1), f\"is\", (squareroot))"
   ]
  },
  {
   "cell_type": "code",
   "execution_count": null,
   "id": "4d32d868",
   "metadata": {},
   "outputs": [],
   "source": []
  },
  {
   "cell_type": "code",
   "execution_count": null,
   "id": "e910d15b",
   "metadata": {},
   "outputs": [],
   "source": []
  }
 ],
 "metadata": {
  "kernelspec": {
   "display_name": "base",
   "language": "python",
   "name": "python3"
  },
  "language_info": {
   "codemirror_mode": {
    "name": "ipython",
    "version": 3
   },
   "file_extension": ".py",
   "mimetype": "text/x-python",
   "name": "python",
   "nbconvert_exporter": "python",
   "pygments_lexer": "ipython3",
   "version": "3.11.6"
  }
 },
 "nbformat": 4,
 "nbformat_minor": 5
}
